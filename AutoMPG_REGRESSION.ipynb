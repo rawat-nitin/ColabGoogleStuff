{
  "nbformat": 4,
  "nbformat_minor": 0,
  "metadata": {
    "colab": {
      "name": "AutoMPG_REGRESSION.ipynb",
      "provenance": [],
      "collapsed_sections": [],
      "authorship_tag": "ABX9TyOnh1b+ZYScZWYjeyFP8Trl",
      "include_colab_link": true
    },
    "kernelspec": {
      "name": "python3",
      "display_name": "Python 3"
    },
    "language_info": {
      "name": "python"
    }
  },
  "cells": [
    {
      "cell_type": "markdown",
      "metadata": {
        "id": "view-in-github",
        "colab_type": "text"
      },
      "source": [
        "<a href=\"https://colab.research.google.com/github/rawat-nitin/ColabGoogleStuff/blob/main/AutoMPG_REGRESSION.ipynb\" target=\"_parent\"><img src=\"https://colab.research.google.com/assets/colab-badge.svg\" alt=\"Open In Colab\"/></a>"
      ]
    },
    {
      "cell_type": "markdown",
      "metadata": {
        "id": "d_wGsxItGCGL"
      },
      "source": [
        "**Basic Regression: Predict Fuel Efficiency.**\n",
        "\n",
        "In a *regression* problem, the aim is to predict the output of a continuous value, like a price or a probability. Contrast this with a *classification* problem, where the aim is to select a class from a list of classes (for example, where a picture contains an apple or an ornage, recognizing which fruit is in the picture).\n",
        "\n",
        "This tutorial uses the classic Auto MPG dataset and demonstrates how to build models to predict the fuel efficiency of the late-1970s early 1980s automobiles. To d this, you will provide the models with a description of many automobiles from that time period. This description includes attributes like cylinders, displacement, horsepower, and weight.\n",
        "\n",
        "This example used the Kera API.\n"
      ]
    },
    {
      "cell_type": "code",
      "metadata": {
        "colab": {
          "base_uri": "https://localhost:8080/"
        },
        "id": "kj5cfRmuGRGz",
        "outputId": "9c9d1df9-1927-41fb-b61e-6b9a93c8688b"
      },
      "source": [
        "# Use seaborn for pairplot, it will help to create Statistical plot \n",
        "%pip install -q seaborn\n",
        "\n",
        "import seaborn as sns\n",
        "import numpy as np\n",
        "import pandas as pd\n",
        "import matplotlib.pyplot as plt\n",
        "\n",
        "print(\"Seaborn version: %s\" %sns.__version__)\n",
        "print(\"numpy version: %s\" %np.__version__)\n",
        "print(\"Pandas version: %s\" %pd.__version__)\n"
      ],
      "execution_count": null,
      "outputs": [
        {
          "output_type": "stream",
          "name": "stdout",
          "text": [
            "Seaborn version: 0.11.2\n",
            "numpy version: 1.19.5\n",
            "Pandas version: 1.1.5\n"
          ]
        }
      ]
    },
    {
      "cell_type": "code",
      "metadata": {
        "id": "aLIVVDeaolYN"
      },
      "source": [
        "# Make NumPy printouts easier to read.\n",
        "np.set_printoptions(precision=3, suppress=True)"
      ],
      "execution_count": null,
      "outputs": []
    },
    {
      "cell_type": "code",
      "metadata": {
        "colab": {
          "base_uri": "https://localhost:8080/"
        },
        "id": "6n1VOQszpFOl",
        "outputId": "9a0b8603-44f4-4f6f-8318-47842f8df9f3"
      },
      "source": [
        "import tensorflow as tf\n",
        "\n",
        "from tensorflow import keras\n",
        "from tensorflow.keras import layers\n",
        "\n",
        "print(\"Tensor flow version: %s\" %tf.__version__)"
      ],
      "execution_count": null,
      "outputs": [
        {
          "output_type": "stream",
          "name": "stdout",
          "text": [
            "Tensor flow version: 2.7.0\n"
          ]
        }
      ]
    },
    {
      "cell_type": "markdown",
      "metadata": {
        "id": "Bl0FOH7bpb6r"
      },
      "source": [
        "**THE AUTO MPG DATASET**\n",
        "The dataset is available from the UCI https://archive.ics.uci.edu/ml/\n",
        "\n",
        "**GET THE DATA**\n",
        "First download and import the dataset using pandas: "
      ]
    },
    {
      "cell_type": "code",
      "metadata": {
        "id": "XYwElf5Dp2yJ"
      },
      "source": [
        "url = 'http://archive.ics.uci.edu/ml/machine-learning-databases/auto-mpg/auto-mpg.data'\n",
        "column_names = ['MPG', 'Cylinders', 'Displacement', 'Horsepower', 'Weight', 'Accelaration', 'Model Year', 'Origin']\n",
        "\n",
        "raw_dataset = pd.read_csv(url, names=column_names, na_values='?', comment='\\t', sep=' ', skipinitialspace=True)"
      ],
      "execution_count": null,
      "outputs": []
    },
    {
      "cell_type": "code",
      "metadata": {
        "colab": {
          "base_uri": "https://localhost:8080/",
          "height": 204
        },
        "id": "UYKFyytaq3cq",
        "outputId": "29bdbd9c-4694-4df2-f4d9-20ab17f50dd3"
      },
      "source": [
        "dataset = raw_dataset.copy()\n",
        "dataset.tail()"
      ],
      "execution_count": null,
      "outputs": [
        {
          "output_type": "execute_result",
          "data": {
            "text/html": [
              "<div>\n",
              "<style scoped>\n",
              "    .dataframe tbody tr th:only-of-type {\n",
              "        vertical-align: middle;\n",
              "    }\n",
              "\n",
              "    .dataframe tbody tr th {\n",
              "        vertical-align: top;\n",
              "    }\n",
              "\n",
              "    .dataframe thead th {\n",
              "        text-align: right;\n",
              "    }\n",
              "</style>\n",
              "<table border=\"1\" class=\"dataframe\">\n",
              "  <thead>\n",
              "    <tr style=\"text-align: right;\">\n",
              "      <th></th>\n",
              "      <th>MPG</th>\n",
              "      <th>Cylinders</th>\n",
              "      <th>Displacement</th>\n",
              "      <th>Horsepower</th>\n",
              "      <th>Weight</th>\n",
              "      <th>Accelaration</th>\n",
              "      <th>Model Year</th>\n",
              "      <th>Origin</th>\n",
              "    </tr>\n",
              "  </thead>\n",
              "  <tbody>\n",
              "    <tr>\n",
              "      <th>393</th>\n",
              "      <td>27.0</td>\n",
              "      <td>4</td>\n",
              "      <td>140.0</td>\n",
              "      <td>86.0</td>\n",
              "      <td>2790.0</td>\n",
              "      <td>15.6</td>\n",
              "      <td>82</td>\n",
              "      <td>1</td>\n",
              "    </tr>\n",
              "    <tr>\n",
              "      <th>394</th>\n",
              "      <td>44.0</td>\n",
              "      <td>4</td>\n",
              "      <td>97.0</td>\n",
              "      <td>52.0</td>\n",
              "      <td>2130.0</td>\n",
              "      <td>24.6</td>\n",
              "      <td>82</td>\n",
              "      <td>2</td>\n",
              "    </tr>\n",
              "    <tr>\n",
              "      <th>395</th>\n",
              "      <td>32.0</td>\n",
              "      <td>4</td>\n",
              "      <td>135.0</td>\n",
              "      <td>84.0</td>\n",
              "      <td>2295.0</td>\n",
              "      <td>11.6</td>\n",
              "      <td>82</td>\n",
              "      <td>1</td>\n",
              "    </tr>\n",
              "    <tr>\n",
              "      <th>396</th>\n",
              "      <td>28.0</td>\n",
              "      <td>4</td>\n",
              "      <td>120.0</td>\n",
              "      <td>79.0</td>\n",
              "      <td>2625.0</td>\n",
              "      <td>18.6</td>\n",
              "      <td>82</td>\n",
              "      <td>1</td>\n",
              "    </tr>\n",
              "    <tr>\n",
              "      <th>397</th>\n",
              "      <td>31.0</td>\n",
              "      <td>4</td>\n",
              "      <td>119.0</td>\n",
              "      <td>82.0</td>\n",
              "      <td>2720.0</td>\n",
              "      <td>19.4</td>\n",
              "      <td>82</td>\n",
              "      <td>1</td>\n",
              "    </tr>\n",
              "  </tbody>\n",
              "</table>\n",
              "</div>"
            ],
            "text/plain": [
              "      MPG  Cylinders  Displacement  ...  Accelaration  Model Year  Origin\n",
              "393  27.0          4         140.0  ...          15.6          82       1\n",
              "394  44.0          4          97.0  ...          24.6          82       2\n",
              "395  32.0          4         135.0  ...          11.6          82       1\n",
              "396  28.0          4         120.0  ...          18.6          82       1\n",
              "397  31.0          4         119.0  ...          19.4          82       1\n",
              "\n",
              "[5 rows x 8 columns]"
            ]
          },
          "metadata": {},
          "execution_count": 5
        }
      ]
    },
    {
      "cell_type": "markdown",
      "metadata": {
        "id": "-ClUbgGjWiYA"
      },
      "source": [
        "**Clean the data**\n",
        "The data-set contains a few unkown values:"
      ]
    },
    {
      "cell_type": "code",
      "metadata": {
        "colab": {
          "base_uri": "https://localhost:8080/"
        },
        "id": "S_JVCIYSWrLk",
        "outputId": "1c5b8694-f6ed-4ac3-e368-59fd1d080ca7"
      },
      "source": [
        "dataset.isna().sum()"
      ],
      "execution_count": null,
      "outputs": [
        {
          "output_type": "execute_result",
          "data": {
            "text/plain": [
              "MPG             0\n",
              "Cylinders       0\n",
              "Displacement    0\n",
              "Horsepower      6\n",
              "Weight          0\n",
              "Accelaration    0\n",
              "Model Year      0\n",
              "Origin          0\n",
              "dtype: int64"
            ]
          },
          "metadata": {},
          "execution_count": 6
        }
      ]
    },
    {
      "cell_type": "markdown",
      "metadata": {
        "id": "E5--VpXdW0fH"
      },
      "source": [
        "**What i isna?**\n",
        "\n",
        "Detect missing values.\n",
        "Return a boolean same-sized object indicating if the values are NA. NA values, such as None or numpy.NaN, gets maped to TRuevalues.\n",
        "Everything else gets mapped to False values. Characters such as empty strings '' or numpy.inf are not considered NA values (unless you set pandas.options.mode.use_inf_as_na = True)."
      ]
    },
    {
      "cell_type": "markdown",
      "metadata": {
        "id": "7W7jvtedX5T3"
      },
      "source": [
        "Drop those rows to keep this initial tutorial simple:"
      ]
    },
    {
      "cell_type": "code",
      "metadata": {
        "colab": {
          "base_uri": "https://localhost:8080/"
        },
        "id": "BaUlkhhgYFy9",
        "outputId": "ce21338f-9329-42a7-da31-88d7b42f3459"
      },
      "source": [
        "dataset = dataset.dropna()\n",
        "dataset.isna().sum()"
      ],
      "execution_count": null,
      "outputs": [
        {
          "output_type": "execute_result",
          "data": {
            "text/plain": [
              "MPG             0\n",
              "Cylinders       0\n",
              "Displacement    0\n",
              "Horsepower      0\n",
              "Weight          0\n",
              "Accelaration    0\n",
              "Model Year      0\n",
              "Origin          0\n",
              "dtype: int64"
            ]
          },
          "metadata": {},
          "execution_count": 7
        }
      ]
    },
    {
      "cell_type": "markdown",
      "metadata": {
        "id": "sKSzPi3MYR4h"
      },
      "source": [
        "The **\"Origin\"** column is categorical, not numeric. So the next step is one-hot encode the values in the column with pd.get_dummies.\n",
        "\n",
        "**Note:** You an set up the tf.keras.Model to do this kind of transformation for you but that's beyond the scope of this tutorial. Check out the Classify strucutured data using Keras preprocessing layers or Load CSV data tutorial for examples."
      ]
    },
    {
      "cell_type": "code",
      "metadata": {
        "id": "cgv8pNkOZLRY"
      },
      "source": [
        "dataset['Origin'] = dataset['Origin'].map({1: 'USA', 2: 'Europe', 3: 'Japan'})"
      ],
      "execution_count": null,
      "outputs": []
    },
    {
      "cell_type": "code",
      "metadata": {
        "colab": {
          "base_uri": "https://localhost:8080/",
          "height": 204
        },
        "id": "qOQMhdD0ZoDq",
        "outputId": "2dfe56a3-d36e-4324-801d-7429789ef8e8"
      },
      "source": [
        "dataset = pd.get_dummies(dataset, columns=['Origin'], prefix='', prefix_sep='')\n",
        "dataset.tail()"
      ],
      "execution_count": null,
      "outputs": [
        {
          "output_type": "execute_result",
          "data": {
            "text/html": [
              "<div>\n",
              "<style scoped>\n",
              "    .dataframe tbody tr th:only-of-type {\n",
              "        vertical-align: middle;\n",
              "    }\n",
              "\n",
              "    .dataframe tbody tr th {\n",
              "        vertical-align: top;\n",
              "    }\n",
              "\n",
              "    .dataframe thead th {\n",
              "        text-align: right;\n",
              "    }\n",
              "</style>\n",
              "<table border=\"1\" class=\"dataframe\">\n",
              "  <thead>\n",
              "    <tr style=\"text-align: right;\">\n",
              "      <th></th>\n",
              "      <th>MPG</th>\n",
              "      <th>Cylinders</th>\n",
              "      <th>Displacement</th>\n",
              "      <th>Horsepower</th>\n",
              "      <th>Weight</th>\n",
              "      <th>Accelaration</th>\n",
              "      <th>Model Year</th>\n",
              "      <th>Europe</th>\n",
              "      <th>Japan</th>\n",
              "      <th>USA</th>\n",
              "    </tr>\n",
              "  </thead>\n",
              "  <tbody>\n",
              "    <tr>\n",
              "      <th>393</th>\n",
              "      <td>27.0</td>\n",
              "      <td>4</td>\n",
              "      <td>140.0</td>\n",
              "      <td>86.0</td>\n",
              "      <td>2790.0</td>\n",
              "      <td>15.6</td>\n",
              "      <td>82</td>\n",
              "      <td>0</td>\n",
              "      <td>0</td>\n",
              "      <td>1</td>\n",
              "    </tr>\n",
              "    <tr>\n",
              "      <th>394</th>\n",
              "      <td>44.0</td>\n",
              "      <td>4</td>\n",
              "      <td>97.0</td>\n",
              "      <td>52.0</td>\n",
              "      <td>2130.0</td>\n",
              "      <td>24.6</td>\n",
              "      <td>82</td>\n",
              "      <td>1</td>\n",
              "      <td>0</td>\n",
              "      <td>0</td>\n",
              "    </tr>\n",
              "    <tr>\n",
              "      <th>395</th>\n",
              "      <td>32.0</td>\n",
              "      <td>4</td>\n",
              "      <td>135.0</td>\n",
              "      <td>84.0</td>\n",
              "      <td>2295.0</td>\n",
              "      <td>11.6</td>\n",
              "      <td>82</td>\n",
              "      <td>0</td>\n",
              "      <td>0</td>\n",
              "      <td>1</td>\n",
              "    </tr>\n",
              "    <tr>\n",
              "      <th>396</th>\n",
              "      <td>28.0</td>\n",
              "      <td>4</td>\n",
              "      <td>120.0</td>\n",
              "      <td>79.0</td>\n",
              "      <td>2625.0</td>\n",
              "      <td>18.6</td>\n",
              "      <td>82</td>\n",
              "      <td>0</td>\n",
              "      <td>0</td>\n",
              "      <td>1</td>\n",
              "    </tr>\n",
              "    <tr>\n",
              "      <th>397</th>\n",
              "      <td>31.0</td>\n",
              "      <td>4</td>\n",
              "      <td>119.0</td>\n",
              "      <td>82.0</td>\n",
              "      <td>2720.0</td>\n",
              "      <td>19.4</td>\n",
              "      <td>82</td>\n",
              "      <td>0</td>\n",
              "      <td>0</td>\n",
              "      <td>1</td>\n",
              "    </tr>\n",
              "  </tbody>\n",
              "</table>\n",
              "</div>"
            ],
            "text/plain": [
              "      MPG  Cylinders  Displacement  Horsepower  ...  Model Year  Europe  Japan  USA\n",
              "393  27.0          4         140.0        86.0  ...          82       0      0    1\n",
              "394  44.0          4          97.0        52.0  ...          82       1      0    0\n",
              "395  32.0          4         135.0        84.0  ...          82       0      0    1\n",
              "396  28.0          4         120.0        79.0  ...          82       0      0    1\n",
              "397  31.0          4         119.0        82.0  ...          82       0      0    1\n",
              "\n",
              "[5 rows x 10 columns]"
            ]
          },
          "metadata": {},
          "execution_count": 9
        }
      ]
    },
    {
      "cell_type": "markdown",
      "metadata": {
        "id": "C8sS5-cSZ6VJ"
      },
      "source": [
        "**Split the data into training and test sets**\n",
        "\n",
        "Now, split the dataset into a training set and a test set. You will use the test set in the final evaluation of your models."
      ]
    },
    {
      "cell_type": "code",
      "metadata": {
        "id": "_nbbcgabaJQ5"
      },
      "source": [
        "train_dataset = dataset.sample(frac=0.8, random_state=0)\n",
        "test_dataset = dataset.drop(train_dataset.index)"
      ],
      "execution_count": null,
      "outputs": []
    },
    {
      "cell_type": "markdown",
      "metadata": {
        "id": "quMg3rGzamJH"
      },
      "source": [
        "**Inspect the Data**\n",
        "\n",
        "Review the joint distribution of a few pairs of columns from the training set.\n",
        "The top row suggests that the fuel efficiency (MPG) is a function of all the other parameters. The other rows indicate they are functions of each other."
      ]
    },
    {
      "cell_type": "code",
      "metadata": {
        "colab": {
          "base_uri": "https://localhost:8080/",
          "height": 744
        },
        "id": "ESkyKyRDa-nX",
        "outputId": "2701411b-5767-4092-915d-3b250756d480"
      },
      "source": [
        "sns.pairplot(train_dataset[['MPG', 'Cylinders', 'Displacement', 'Weight']], diag_kind='kde')"
      ],
      "execution_count": null,
      "outputs": [
        {
          "output_type": "execute_result",
          "data": {
            "text/plain": [
              "<seaborn.axisgrid.PairGrid at 0x7fdd01065c50>"
            ]
          },
          "metadata": {},
          "execution_count": 11
        },
        {
          "output_type": "display_data",
          "data": {
            "image/png": "[encoded data removed]",
            "text/plain": [
              "<Figure size 720x720 with 20 Axes>"
            ]
          },
          "metadata": {
            "needs_background": "light"
          }
        }
      ]
    },
    {
      "cell_type": "markdown",
      "metadata": {
        "id": "tDhhaKaibeHW"
      },
      "source": [
        "Let's also check the overall statistics. Note how each features covers a very different range:"
      ]
    },
    {
      "cell_type": "code",
      "metadata": {
        "colab": {
          "base_uri": "https://localhost:8080/",
          "height": 359
        },
        "id": "Xf0eaRvcbovG",
        "outputId": "380dda63-511a-433d-ee13-1b9afdc3798b"
      },
      "source": [
        "train_dataset.describe().transpose()"
      ],
      "execution_count": null,
      "outputs": [
        {
          "output_type": "execute_result",
          "data": {
            "text/html": [
              "<div>\n",
              "<style scoped>\n",
              "    .dataframe tbody tr th:only-of-type {\n",
              "        vertical-align: middle;\n",
              "    }\n",
              "\n",
              "    .dataframe tbody tr th {\n",
              "        vertical-align: top;\n",
              "    }\n",
              "\n",
              "    .dataframe thead th {\n",
              "        text-align: right;\n",
              "    }\n",
              "</style>\n",
              "<table border=\"1\" class=\"dataframe\">\n",
              "  <thead>\n",
              "    <tr style=\"text-align: right;\">\n",
              "      <th></th>\n",
              "      <th>count</th>\n",
              "      <th>mean</th>\n",
              "      <th>std</th>\n",
              "      <th>min</th>\n",
              "      <th>25%</th>\n",
              "      <th>50%</th>\n",
              "      <th>75%</th>\n",
              "      <th>max</th>\n",
              "    </tr>\n",
              "  </thead>\n",
              "  <tbody>\n",
              "    <tr>\n",
              "      <th>MPG</th>\n",
              "      <td>314.0</td>\n",
              "      <td>23.310510</td>\n",
              "      <td>7.728652</td>\n",
              "      <td>10.0</td>\n",
              "      <td>17.00</td>\n",
              "      <td>22.0</td>\n",
              "      <td>28.95</td>\n",
              "      <td>46.6</td>\n",
              "    </tr>\n",
              "    <tr>\n",
              "      <th>Cylinders</th>\n",
              "      <td>314.0</td>\n",
              "      <td>5.477707</td>\n",
              "      <td>1.699788</td>\n",
              "      <td>3.0</td>\n",
              "      <td>4.00</td>\n",
              "      <td>4.0</td>\n",
              "      <td>8.00</td>\n",
              "      <td>8.0</td>\n",
              "    </tr>\n",
              "    <tr>\n",
              "      <th>Displacement</th>\n",
              "      <td>314.0</td>\n",
              "      <td>195.318471</td>\n",
              "      <td>104.331589</td>\n",
              "      <td>68.0</td>\n",
              "      <td>105.50</td>\n",
              "      <td>151.0</td>\n",
              "      <td>265.75</td>\n",
              "      <td>455.0</td>\n",
              "    </tr>\n",
              "    <tr>\n",
              "      <th>Horsepower</th>\n",
              "      <td>314.0</td>\n",
              "      <td>104.869427</td>\n",
              "      <td>38.096214</td>\n",
              "      <td>46.0</td>\n",
              "      <td>76.25</td>\n",
              "      <td>94.5</td>\n",
              "      <td>128.00</td>\n",
              "      <td>225.0</td>\n",
              "    </tr>\n",
              "    <tr>\n",
              "      <th>Weight</th>\n",
              "      <td>314.0</td>\n",
              "      <td>2990.251592</td>\n",
              "      <td>843.898596</td>\n",
              "      <td>1649.0</td>\n",
              "      <td>2256.50</td>\n",
              "      <td>2822.5</td>\n",
              "      <td>3608.00</td>\n",
              "      <td>5140.0</td>\n",
              "    </tr>\n",
              "    <tr>\n",
              "      <th>Accelaration</th>\n",
              "      <td>314.0</td>\n",
              "      <td>15.559236</td>\n",
              "      <td>2.789230</td>\n",
              "      <td>8.0</td>\n",
              "      <td>13.80</td>\n",
              "      <td>15.5</td>\n",
              "      <td>17.20</td>\n",
              "      <td>24.8</td>\n",
              "    </tr>\n",
              "    <tr>\n",
              "      <th>Model Year</th>\n",
              "      <td>314.0</td>\n",
              "      <td>75.898089</td>\n",
              "      <td>3.675642</td>\n",
              "      <td>70.0</td>\n",
              "      <td>73.00</td>\n",
              "      <td>76.0</td>\n",
              "      <td>79.00</td>\n",
              "      <td>82.0</td>\n",
              "    </tr>\n",
              "    <tr>\n",
              "      <th>Europe</th>\n",
              "      <td>314.0</td>\n",
              "      <td>0.178344</td>\n",
              "      <td>0.383413</td>\n",
              "      <td>0.0</td>\n",
              "      <td>0.00</td>\n",
              "      <td>0.0</td>\n",
              "      <td>0.00</td>\n",
              "      <td>1.0</td>\n",
              "    </tr>\n",
              "    <tr>\n",
              "      <th>Japan</th>\n",
              "      <td>314.0</td>\n",
              "      <td>0.197452</td>\n",
              "      <td>0.398712</td>\n",
              "      <td>0.0</td>\n",
              "      <td>0.00</td>\n",
              "      <td>0.0</td>\n",
              "      <td>0.00</td>\n",
              "      <td>1.0</td>\n",
              "    </tr>\n",
              "    <tr>\n",
              "      <th>USA</th>\n",
              "      <td>314.0</td>\n",
              "      <td>0.624204</td>\n",
              "      <td>0.485101</td>\n",
              "      <td>0.0</td>\n",
              "      <td>0.00</td>\n",
              "      <td>1.0</td>\n",
              "      <td>1.00</td>\n",
              "      <td>1.0</td>\n",
              "    </tr>\n",
              "  </tbody>\n",
              "</table>\n",
              "</div>"
            ],
            "text/plain": [
              "              count         mean         std  ...     50%      75%     max\n",
              "MPG           314.0    23.310510    7.728652  ...    22.0    28.95    46.6\n",
              "Cylinders     314.0     5.477707    1.699788  ...     4.0     8.00     8.0\n",
              "Displacement  314.0   195.318471  104.331589  ...   151.0   265.75   455.0\n",
              "Horsepower    314.0   104.869427   38.096214  ...    94.5   128.00   225.0\n",
              "Weight        314.0  2990.251592  843.898596  ...  2822.5  3608.00  5140.0\n",
              "Accelaration  314.0    15.559236    2.789230  ...    15.5    17.20    24.8\n",
              "Model Year    314.0    75.898089    3.675642  ...    76.0    79.00    82.0\n",
              "Europe        314.0     0.178344    0.383413  ...     0.0     0.00     1.0\n",
              "Japan         314.0     0.197452    0.398712  ...     0.0     0.00     1.0\n",
              "USA           314.0     0.624204    0.485101  ...     1.0     1.00     1.0\n",
              "\n",
              "[10 rows x 8 columns]"
            ]
          },
          "metadata": {},
          "execution_count": 12
        }
      ]
    },
    {
      "cell_type": "markdown",
      "metadata": {
        "id": "znm6t-fIbxi_"
      },
      "source": [
        "**Split features from labels**\n",
        "Separate the target value-the \"label\"-from the features. This label is the value that you will train the model to predict"
      ]
    },
    {
      "cell_type": "code",
      "metadata": {
        "id": "ysuDTeLscC1Z"
      },
      "source": [
        "train_features = train_dataset.copy()\n",
        "test_features = test_dataset.copy()\n",
        "\n",
        "train_labels = train_features.pop('MPG')\n",
        "test_labels = test_features.pop('MPG')"
      ],
      "execution_count": null,
      "outputs": []
    },
    {
      "cell_type": "markdown",
      "metadata": {
        "id": "5SiIpaCrcZJC"
      },
      "source": [
        "**Normalization**\n",
        "\n",
        "In the table of stastics it's easy to see how different the ranges of each features are:*italicized text*"
      ]
    },
    {
      "cell_type": "code",
      "metadata": {
        "colab": {
          "base_uri": "https://localhost:8080/",
          "height": 359
        },
        "id": "LGRj-tQ0cjZE",
        "outputId": "880162eb-a4d4-4835-bde2-394a286d7598"
      },
      "source": [
        "train_dataset.describe().transpose()[['mean', 'std']]"
      ],
      "execution_count": null,
      "outputs": [
        {
          "output_type": "execute_result",
          "data": {
            "text/html": [
              "<div>\n",
              "<style scoped>\n",
              "    .dataframe tbody tr th:only-of-type {\n",
              "        vertical-align: middle;\n",
              "    }\n",
              "\n",
              "    .dataframe tbody tr th {\n",
              "        vertical-align: top;\n",
              "    }\n",
              "\n",
              "    .dataframe thead th {\n",
              "        text-align: right;\n",
              "    }\n",
              "</style>\n",
              "<table border=\"1\" class=\"dataframe\">\n",
              "  <thead>\n",
              "    <tr style=\"text-align: right;\">\n",
              "      <th></th>\n",
              "      <th>mean</th>\n",
              "      <th>std</th>\n",
              "    </tr>\n",
              "  </thead>\n",
              "  <tbody>\n",
              "    <tr>\n",
              "      <th>MPG</th>\n",
              "      <td>23.310510</td>\n",
              "      <td>7.728652</td>\n",
              "    </tr>\n",
              "    <tr>\n",
              "      <th>Cylinders</th>\n",
              "      <td>5.477707</td>\n",
              "      <td>1.699788</td>\n",
              "    </tr>\n",
              "    <tr>\n",
              "      <th>Displacement</th>\n",
              "      <td>195.318471</td>\n",
              "      <td>104.331589</td>\n",
              "    </tr>\n",
              "    <tr>\n",
              "      <th>Horsepower</th>\n",
              "      <td>104.869427</td>\n",
              "      <td>38.096214</td>\n",
              "    </tr>\n",
              "    <tr>\n",
              "      <th>Weight</th>\n",
              "      <td>2990.251592</td>\n",
              "      <td>843.898596</td>\n",
              "    </tr>\n",
              "    <tr>\n",
              "      <th>Accelaration</th>\n",
              "      <td>15.559236</td>\n",
              "      <td>2.789230</td>\n",
              "    </tr>\n",
              "    <tr>\n",
              "      <th>Model Year</th>\n",
              "      <td>75.898089</td>\n",
              "      <td>3.675642</td>\n",
              "    </tr>\n",
              "    <tr>\n",
              "      <th>Europe</th>\n",
              "      <td>0.178344</td>\n",
              "      <td>0.383413</td>\n",
              "    </tr>\n",
              "    <tr>\n",
              "      <th>Japan</th>\n",
              "      <td>0.197452</td>\n",
              "      <td>0.398712</td>\n",
              "    </tr>\n",
              "    <tr>\n",
              "      <th>USA</th>\n",
              "      <td>0.624204</td>\n",
              "      <td>0.485101</td>\n",
              "    </tr>\n",
              "  </tbody>\n",
              "</table>\n",
              "</div>"
            ],
            "text/plain": [
              "                     mean         std\n",
              "MPG             23.310510    7.728652\n",
              "Cylinders        5.477707    1.699788\n",
              "Displacement   195.318471  104.331589\n",
              "Horsepower     104.869427   38.096214\n",
              "Weight        2990.251592  843.898596\n",
              "Accelaration    15.559236    2.789230\n",
              "Model Year      75.898089    3.675642\n",
              "Europe           0.178344    0.383413\n",
              "Japan            0.197452    0.398712\n",
              "USA              0.624204    0.485101"
            ]
          },
          "metadata": {},
          "execution_count": 14
        }
      ]
    },
    {
      "cell_type": "markdown",
      "metadata": {
        "id": "V4QIXSJbcwyX"
      },
      "source": [
        "It is a good practice to normalize features that use different scales and ranges.\n",
        "One reason this is important is beacuse the features are multiplied by the model weights. SO, the scale of the outputs and the scale of the gradients are affected by the scale of the inputs.\n",
        "Although a model might converge without feature normalization, normalization makes training more stable.\n",
        "\n",
        "**Note:** There is no advantage to normalizing the one-hot features-it is done here for simplicity. For more details on how to use the preprocessing layers, refer to the Working with preprocessing layers guide and the Classify strucutured data using Keras preprocessing layers tutorial.\n",
        "\n"
      ]
    },
    {
      "cell_type": "markdown",
      "metadata": {
        "id": "YGk3q47ZdwFK"
      },
      "source": [
        "**The Normalization layer**\n",
        "\n",
        "The tf.keras.layers.Normalization is a clean and simple way to add feature normalization into your model.\n",
        "The first step is to create the layer:"
      ]
    },
    {
      "cell_type": "code",
      "metadata": {
        "id": "CbqODRzteBYK"
      },
      "source": [
        "normalizer = tf.keras.layers.Normalization(axis=-1)"
      ],
      "execution_count": null,
      "outputs": []
    },
    {
      "cell_type": "markdown",
      "metadata": {
        "id": "1QPK_kg9eNYt"
      },
      "source": [
        "Then, fit the state of the preprocessing layer to the data by calling Normalization.adapt:"
      ]
    },
    {
      "cell_type": "code",
      "metadata": {
        "id": "QAsD2GIzeTUc"
      },
      "source": [
        "normalizer.adapt(np.array(train_features))"
      ],
      "execution_count": null,
      "outputs": []
    },
    {
      "cell_type": "markdown",
      "metadata": {
        "id": "Ci0dMS2JebaE"
      },
      "source": [
        "Calculate the mean and variance, and store them in the layer:"
      ]
    },
    {
      "cell_type": "code",
      "metadata": {
        "colab": {
          "base_uri": "https://localhost:8080/"
        },
        "id": "VCQKYZwLefmy",
        "outputId": "96b6b00f-612e-4096-a08d-54444724a32a"
      },
      "source": [
        "print(normalizer.mean.numpy())"
      ],
      "execution_count": null,
      "outputs": [
        {
          "output_type": "stream",
          "name": "stdout",
          "text": [
            "[[   5.478  195.318  104.869 2990.252   15.559   75.898    0.178    0.197\n",
            "     0.624]]\n"
          ]
        }
      ]
    },
    {
      "cell_type": "markdown",
      "metadata": {
        "id": "evuojvPRem_N"
      },
      "source": [
        "When the layer is called, it returns the input data, with each feature independently normalized:"
      ]
    },
    {
      "cell_type": "code",
      "metadata": {
        "colab": {
          "base_uri": "https://localhost:8080/"
        },
        "id": "1dGTmApaev_O",
        "outputId": "b7e1f3d7-e992-4b15-e4a5-025f8133b3b7"
      },
      "source": [
        "first = np.array(train_features[:1])\n",
        "\n",
        "with np.printoptions(precision=2, suppress=True):\n",
        "  print('First example:', first)\n",
        "  print()\n",
        "  print('Normalized:', normalizer(first).numpy())"
      ],
      "execution_count": null,
      "outputs": [
        {
          "output_type": "stream",
          "name": "stdout",
          "text": [
            "First example: [[   4.    90.    75.  2125.    14.5   74.     0.     0.     1. ]]\n",
            "\n",
            "Normalized: [[-0.87 -1.01 -0.79 -1.03 -0.38 -0.52 -0.47 -0.5   0.78]]\n"
          ]
        }
      ]
    },
    {
      "cell_type": "markdown",
      "metadata": {
        "id": "ByvXUhn2fUnf"
      },
      "source": [
        "**Linear Regression**\n",
        "\n",
        "Before building a deep neural network model, start with linear regression using one and several variables.\n",
        "\n",
        "Linear regression with one varibale **bold text**\n",
        "\n",
        "Begin with a single-variable linear regression to predict **'MPG'** from **'Horseposer'**.\n",
        "\n",
        "Training a model with tf.keras typically starts by defining the model architecture. Use a tf.keras.Sequential model, which represents a sequence of steps.\n",
        "\n",
        "There are two steps in your single-variable linear regression model:\n",
        "\n",
        "(1) Normalize the 'Horsepower' input features using the tf.keras.layers.Normalization preprocessing layer.\n",
        "\n",
        "(2) Apply a linear transformation (y = mx + b) to produce 1 output using a linear layer (tf.keras.layers.Dense).\n",
        "\n",
        "The number of inputs can either be set by the input_shape argument, or automatically when the model is run for the first time.\n",
        "\n",
        "First, create a NumPy array made of the 'Horsepower' features. Then, instantiate the tf.keras.layers.Normalization and fit its state to the horsepower data:\n",
        "\n",
        "\n"
      ]
    },
    {
      "cell_type": "code",
      "metadata": {
        "id": "CmevdZsGhPaL"
      },
      "source": [
        "horsepower = np.array(train_features['Horsepower'])\n",
        "\n",
        "horsepower_normalizer = layers.Normalization(input_shape=[1,], axis=None)\n",
        "horsepower_normalizer.adapt(horsepower)"
      ],
      "execution_count": null,
      "outputs": []
    },
    {
      "cell_type": "markdown",
      "metadata": {
        "id": "2roNA15NhmbK"
      },
      "source": [
        "Build the Keras Sequential model:"
      ]
    },
    {
      "cell_type": "code",
      "metadata": {
        "colab": {
          "base_uri": "https://localhost:8080/"
        },
        "id": "NolbwyZ7hqrL",
        "outputId": "dd2b970f-eef9-48b0-9a5c-9d20872608f0"
      },
      "source": [
        "horsepower_model = tf.keras.Sequential([\n",
        "    horsepower_normalizer, layers.Dense(units=1)])\n",
        "\n",
        "horsepower_model.summary()"
      ],
      "execution_count": null,
      "outputs": [
        {
          "output_type": "stream",
          "name": "stdout",
          "text": [
            "Model: \"sequential\"\n",
            "_________________________________________________________________\n",
            " Layer (type)                Output Shape              Param #   \n",
            "=================================================================\n",
            " normalization_1 (Normalizat  (None, 1)                3         \n",
            " ion)                                                            \n",
            "                                                                 \n",
            " dense (Dense)               (None, 1)                 2         \n",
            "                                                                 \n",
            "=================================================================\n",
            "Total params: 5\n",
            "Trainable params: 2\n",
            "Non-trainable params: 3\n",
            "_________________________________________________________________\n"
          ]
        }
      ]
    },
    {
      "cell_type": "markdown",
      "metadata": {
        "id": "cpRHfWopiLm7"
      },
      "source": [
        "This model will predict 'MPG' from 'Horsepower'.\n",
        "Run the untained model on the first 10 'Horsepower' values. The output won't be good, but notice that it has expected shape of (10, 1):"
      ]
    },
    {
      "cell_type": "code",
      "metadata": {
        "colab": {
          "base_uri": "https://localhost:8080/"
        },
        "id": "dzreVMc_icq3",
        "outputId": "326a6e74-e676-4eca-df84-86eab2a545f6"
      },
      "source": [
        "horsepower_model.predict(horsepower[:10])"
      ],
      "execution_count": null,
      "outputs": [
        {
          "output_type": "execute_result",
          "data": {
            "text/plain": [
              "array([[ 0.078],\n",
              "       [ 0.044],\n",
              "       [-0.145],\n",
              "       [ 0.11 ],\n",
              "       [ 0.099],\n",
              "       [ 0.039],\n",
              "       [ 0.118],\n",
              "       [ 0.099],\n",
              "       [ 0.026],\n",
              "       [ 0.044]], dtype=float32)"
            ]
          },
          "metadata": {},
          "execution_count": 21
        }
      ]
    },
    {
      "cell_type": "markdown",
      "metadata": {
        "id": "WbUfOzwQimH5"
      },
      "source": [
        "Once the model is built, configure the training procedure using the Keras Model.compile method. The most importnant arguements to compile are the loss and the optimizer, since these defines what will be optimized (mean_abosolute_error) and how (using the tf.keras.optimizers.Adam).\n",
        "\n"
      ]
    },
    {
      "cell_type": "code",
      "metadata": {
        "id": "KgVI5YpWjAFm"
      },
      "source": [
        "horsepower_model.compile(\n",
        "    optimizer=tf.optimizers.Adam(learning_rate=0.1),\n",
        "    loss='mean_absolute_error')"
      ],
      "execution_count": null,
      "outputs": []
    },
    {
      "cell_type": "markdown",
      "metadata": {
        "id": "sjk06Ra9jRdr"
      },
      "source": [
        "Having configures the training configures, use Keras Model.fit to execute the training for 100 epochs:"
      ]
    },
    {
      "cell_type": "code",
      "metadata": {
        "colab": {
          "base_uri": "https://localhost:8080/"
        },
        "id": "DlpN_Gb0jZ8P",
        "outputId": "4e2b43e0-1173-4dbe-dec0-f862b89d70f0"
      },
      "source": [
        "%%time\n",
        "history = horsepower_model.fit(\n",
        "    train_features['Horsepower'],\n",
        "    train_labels,\n",
        "    epochs=100,\n",
        "    # Supress logging.\n",
        "    verbose=0,\n",
        "    # Calculate validation results on 20% of the training data.\n",
        "    validation_split = 0.2)"
      ],
      "execution_count": null,
      "outputs": [
        {
          "output_type": "stream",
          "name": "stdout",
          "text": [
            "CPU times: user 3.39 s, sys: 157 ms, total: 3.55 s\n",
            "Wall time: 3.41 s\n"
          ]
        }
      ]
    },
    {
      "cell_type": "markdown",
      "metadata": {
        "id": "ei-xE-7Sj3UY"
      },
      "source": [
        "Visulaize the model's training progress using the stats in the history object:"
      ]
    },
    {
      "cell_type": "code",
      "metadata": {
        "colab": {
          "base_uri": "https://localhost:8080/",
          "height": 204
        },
        "id": "8lSlqKM7j-YD",
        "outputId": "a3b3c94b-4e10-42a2-e4d8-fb9ca74ab2ab"
      },
      "source": [
        "hist = pd.DataFrame(history.history)\n",
        "hist['epoch'] = history.epoch\n",
        "hist.tail()"
      ],
      "execution_count": null,
      "outputs": [
        {
          "output_type": "execute_result",
          "data": {
            "text/html": [
              "<div>\n",
              "<style scoped>\n",
              "    .dataframe tbody tr th:only-of-type {\n",
              "        vertical-align: middle;\n",
              "    }\n",
              "\n",
              "    .dataframe tbody tr th {\n",
              "        vertical-align: top;\n",
              "    }\n",
              "\n",
              "    .dataframe thead th {\n",
              "        text-align: right;\n",
              "    }\n",
              "</style>\n",
              "<table border=\"1\" class=\"dataframe\">\n",
              "  <thead>\n",
              "    <tr style=\"text-align: right;\">\n",
              "      <th></th>\n",
              "      <th>loss</th>\n",
              "      <th>val_loss</th>\n",
              "      <th>epoch</th>\n",
              "    </tr>\n",
              "  </thead>\n",
              "  <tbody>\n",
              "    <tr>\n",
              "      <th>95</th>\n",
              "      <td>3.804239</td>\n",
              "      <td>4.202983</td>\n",
              "      <td>95</td>\n",
              "    </tr>\n",
              "    <tr>\n",
              "      <th>96</th>\n",
              "      <td>3.802321</td>\n",
              "      <td>4.182214</td>\n",
              "      <td>96</td>\n",
              "    </tr>\n",
              "    <tr>\n",
              "      <th>97</th>\n",
              "      <td>3.803803</td>\n",
              "      <td>4.171543</td>\n",
              "      <td>97</td>\n",
              "    </tr>\n",
              "    <tr>\n",
              "      <th>98</th>\n",
              "      <td>3.807239</td>\n",
              "      <td>4.191270</td>\n",
              "      <td>98</td>\n",
              "    </tr>\n",
              "    <tr>\n",
              "      <th>99</th>\n",
              "      <td>3.802193</td>\n",
              "      <td>4.194252</td>\n",
              "      <td>99</td>\n",
              "    </tr>\n",
              "  </tbody>\n",
              "</table>\n",
              "</div>"
            ],
            "text/plain": [
              "        loss  val_loss  epoch\n",
              "95  3.804239  4.202983     95\n",
              "96  3.802321  4.182214     96\n",
              "97  3.803803  4.171543     97\n",
              "98  3.807239  4.191270     98\n",
              "99  3.802193  4.194252     99"
            ]
          },
          "metadata": {},
          "execution_count": 24
        }
      ]
    },
    {
      "cell_type": "code",
      "metadata": {
        "id": "oUa0ejTFkMoc"
      },
      "source": [
        "def plot_loss(history):\n",
        "  plt.plot(history.history['loss'], label='loss')\n",
        "  plt.plot(history.history['val_loss'], label='val_loss')\n",
        "  plt.ylim([0, 10])\n",
        "  plt.xlabel(['Epoch'])\n",
        "  plt.ylabel(['Error [MPG]'])\n",
        "  plt.legend()\n",
        "  plt.grid(True)"
      ],
      "execution_count": null,
      "outputs": []
    },
    {
      "cell_type": "code",
      "metadata": {
        "colab": {
          "base_uri": "https://localhost:8080/",
          "height": 283
        },
        "id": "NB2EU-nZkzL_",
        "outputId": "ee1abde4-49dc-4bbb-9e6e-822ff46cf422"
      },
      "source": [
        "plot_loss(history)"
      ],
      "execution_count": null,
      "outputs": [
        {
          "output_type": "display_data",
          "data": {
            "image/png": "[encoded data removed]",
            "text/plain": [
              "<Figure size 432x288 with 1 Axes>"
            ]
          },
          "metadata": {
            "needs_background": "light"
          }
        }
      ]
    },
    {
      "cell_type": "markdown",
      "metadata": {
        "id": "Os3H1V-ImCZp"
      },
      "source": [
        "Collect the results on the test set for later:"
      ]
    },
    {
      "cell_type": "code",
      "metadata": {
        "id": "ePrmpUjqmc1i"
      },
      "source": [
        "test_results = {}\n",
        "\n",
        "test_results['horsepower_model'] = horsepower_model.evaluate(\n",
        "    test_features['Horsepower'], \n",
        "    test_labels, verbose=0)"
      ],
      "execution_count": null,
      "outputs": []
    },
    {
      "cell_type": "markdown",
      "metadata": {
        "id": "DRVRmzjXm9OJ"
      },
      "source": [
        "Since this is a single varibale regression, it's easy to view the model's predictions as a function of the input:"
      ]
    },
    {
      "cell_type": "code",
      "metadata": {
        "id": "SyQtl2eunKjf"
      },
      "source": [
        "x = tf.linspace(0.0, 250, 251)\n",
        "y = horsepower_model.predict(x)"
      ],
      "execution_count": null,
      "outputs": []
    },
    {
      "cell_type": "code",
      "metadata": {
        "id": "wpdKC0JDnT24"
      },
      "source": [
        "def plot_horsepower(x, y):\n",
        "  plt.scatter(train_features['Horsepower'], train_labels, label='Data')\n",
        "  plt.plot(x, y, color='k', label='Predictions')\n",
        "  plt.xlabel('Horsepower')\n",
        "  plt.ylabel('MPG')\n",
        "  plt.legend()"
      ],
      "execution_count": null,
      "outputs": []
    },
    {
      "cell_type": "code",
      "metadata": {
        "colab": {
          "base_uri": "https://localhost:8080/",
          "height": 279
        },
        "id": "ASyRXgZYnyn-",
        "outputId": "146b921c-dbeb-4659-a2f2-ddbe4f495b5e"
      },
      "source": [
        "plot_horsepower(x, y)"
      ],
      "execution_count": null,
      "outputs": [
        {
          "output_type": "display_data",
          "data": {
            "image/png": "[encoded data removed]",
            "text/plain": [
              "<Figure size 432x288 with 1 Axes>"
            ]
          },
          "metadata": {
            "needs_background": "light"
          }
        }
      ]
    },
    {
      "cell_type": "markdown",
      "metadata": {
        "id": "M8ydTkuun6Ke"
      },
      "source": [
        "**Linear regression with multiple inputs**\n",
        "\n",
        "You can use an almost identical setup to make predictions based on mulitple inputs. This model still does the same y = mx + b except that m is a matric and b is a vector.\n",
        "\n",
        "Create a two-step Keras Sequential model again with the first layer being normalizer (tf.keras.layers.NOrmalization(axis=-1) you defined earlier and adapted to the whole dataset:"
      ]
    },
    {
      "cell_type": "code",
      "metadata": {
        "id": "GkmXHr6hof24"
      },
      "source": [
        "linear_model = tf.keras.Sequential([\n",
        "    normalizer,\n",
        "    layers.Dense(units=1)\n",
        "])"
      ],
      "execution_count": null,
      "outputs": []
    },
    {
      "cell_type": "markdown",
      "metadata": {
        "id": "8w7X-vH3or9V"
      },
      "source": [
        "When you call Model.predict on a batch of inputs, it produces units=1 outputs for each exmple:"
      ]
    },
    {
      "cell_type": "code",
      "metadata": {
        "colab": {
          "base_uri": "https://localhost:8080/"
        },
        "id": "Bh2UHIbQo1bV",
        "outputId": "b3bddf99-f22d-48b2-9b81-9e1f9fbcd726"
      },
      "source": [
        "linear_model.predict(train_features[:10])"
      ],
      "execution_count": null,
      "outputs": [
        {
          "output_type": "execute_result",
          "data": {
            "text/plain": [
              "array([[-0.038],\n",
              "       [ 0.748],\n",
              "       [-1.351],\n",
              "       [ 0.543],\n",
              "       [ 1.705],\n",
              "       [ 0.386],\n",
              "       [ 1.894],\n",
              "       [ 1.262],\n",
              "       [-0.132],\n",
              "       [ 1.403]], dtype=float32)"
            ]
          },
          "metadata": {},
          "execution_count": 33
        }
      ]
    },
    {
      "cell_type": "markdown",
      "metadata": {
        "id": "ghlz3f1so-xl"
      },
      "source": [
        "When  you call the model, its weight matrices will be built-check that the kernel weights (the m in y = mx+b) have a shape of (9, 1):"
      ]
    },
    {
      "cell_type": "code",
      "metadata": {
        "colab": {
          "base_uri": "https://localhost:8080/"
        },
        "id": "Z_PItwCnpOZE",
        "outputId": "725146e8-c14d-4803-bef4-40c849ee24fb"
      },
      "source": [
        "linear_model.layers[1].kernel"
      ],
      "execution_count": null,
      "outputs": [
        {
          "output_type": "execute_result",
          "data": {
            "text/plain": [
              "<tf.Variable 'dense_1/kernel:0' shape=(9, 1) dtype=float32, numpy=\n",
              "array([[-0.607],\n",
              "       [ 0.586],\n",
              "       [-0.195],\n",
              "       [-0.225],\n",
              "       [ 0.524],\n",
              "       [ 0.182],\n",
              "       [-0.55 ],\n",
              "       [-0.118],\n",
              "       [-0.488]], dtype=float32)>"
            ]
          },
          "metadata": {},
          "execution_count": 34
        }
      ]
    },
    {
      "cell_type": "markdown",
      "metadata": {
        "id": "jnyp7RKlpXki"
      },
      "source": [
        "Configure the model with Keras MOdel.compile and train with Model.fit for 100 epochs:"
      ]
    },
    {
      "cell_type": "code",
      "metadata": {
        "id": "96H8Kco7pe18"
      },
      "source": [
        "linear_model.compile(\n",
        "    optimizer=tf.optimizers.Adam(learning_rate=0.1),\n",
        "    loss='mean_absolute_error')"
      ],
      "execution_count": null,
      "outputs": []
    },
    {
      "cell_type": "code",
      "metadata": {
        "colab": {
          "base_uri": "https://localhost:8080/"
        },
        "id": "QphfLJ1Upuan",
        "outputId": "70facace-bc89-444a-b124-be26135cb272"
      },
      "source": [
        "%%time\n",
        "history = linear_model.fit(\n",
        "    train_features, \n",
        "    train_labels,\n",
        "    epochs=100,\n",
        "    # Supress logging\n",
        "    verbose=0,\n",
        "    # Calculation validation results on 0% of the training data.\n",
        "    validation_split = 0.2)"
      ],
      "execution_count": null,
      "outputs": [
        {
          "output_type": "stream",
          "name": "stdout",
          "text": [
            "CPU times: user 3.2 s, sys: 164 ms, total: 3.36 s\n",
            "Wall time: 3.04 s\n"
          ]
        }
      ]
    },
    {
      "cell_type": "markdown",
      "metadata": {
        "id": "spHl73_6qHZC"
      },
      "source": [
        "Using all the inputs in this regression model achieves a much lower training and validation error than the horsepower_model, which had one input:"
      ]
    },
    {
      "cell_type": "code",
      "metadata": {
        "colab": {
          "base_uri": "https://localhost:8080/",
          "height": 283
        },
        "id": "E95VPIuYqWL3",
        "outputId": "812b79fb-3e6f-4aee-81d3-63b26d307e05"
      },
      "source": [
        "plot_loss(history)"
      ],
      "execution_count": null,
      "outputs": [
        {
          "output_type": "display_data",
          "data": {
            "image/png": "[encoded data removed]",
            "text/plain": [
              "<Figure size 432x288 with 1 Axes>"
            ]
          },
          "metadata": {
            "needs_background": "light"
          }
        }
      ]
    },
    {
      "cell_type": "markdown",
      "metadata": {
        "id": "N49tdNGMqawJ"
      },
      "source": [
        "Collect the results on the test set for later:"
      ]
    },
    {
      "cell_type": "code",
      "metadata": {
        "id": "T2KN7FNAqed4"
      },
      "source": [
        "test_results['linear_model'] = linear_model.evaluate(\n",
        "    test_features, test_labels, verbose=0)"
      ],
      "execution_count": null,
      "outputs": []
    },
    {
      "cell_type": "markdown",
      "metadata": {
        "id": "Hq0f-KLOqr5i"
      },
      "source": [
        "**Regression with a deep neural network (DNN)**\n",
        "\n",
        "In the previous section, you implemented two linear models for single and multiple inputs.\n",
        "\n",
        "Here, you will implement single-input and multiple-input DNN models.\n",
        "The code is bascally the same except the model is expanded to include some \"hidden\" non-linear layers. The name \"hidden\" here just means not directly connected to the inputs or outputs.\n",
        "These models will contain a few more layers than the linear model:\n",
        "\n",
        "(1) The normalization layer, as before (with **horsepower_normalizer** for a single-input model and **normalizer** for a multiple-input model).\n",
        "\n",
        "(2) Two hidden, non-linear, **Dense** layers with ReLU (relu) activation function nonlinearity.\n",
        "\n",
        "(3) A linear Dense single-ouput layer.\n",
        "\n",
        "Both models will use the same training prcedure so the **compile** method is included in the **build_and_compile_model** function below."
      ]
    },
    {
      "cell_type": "code",
      "metadata": {
        "id": "16wqIsIgsmHy"
      },
      "source": [
        "def build_and_compile_model(norm):\n",
        "  model = keras.Sequential([\n",
        "      norm,\n",
        "      layers.Dense(64, activation='relu'),\n",
        "      layers.Dense(64, activation='relu'),\n",
        "      layers.Dense(1)\n",
        "  ])\n",
        "\n",
        "  model.compile(loss='mean_absolute_error',\n",
        "                optimizer=tf.keras.optimizers.Adam(0.001))\n",
        "  return model"
      ],
      "execution_count": null,
      "outputs": []
    },
    {
      "cell_type": "markdown",
      "metadata": {
        "id": "QskpgUNntKS5"
      },
      "source": [
        "**Regression using a DNN and a Single input**\n",
        "\n",
        "Create a DNN model with only 'Horsepower' as input and horsepower_normalizer (defined earlier) as the normalizatio layer:"
      ]
    },
    {
      "cell_type": "code",
      "metadata": {
        "id": "rCvoep1etgKS"
      },
      "source": [
        "dnn_horsepower_model = build_and_compile_model(horsepower_normalizer)"
      ],
      "execution_count": null,
      "outputs": []
    },
    {
      "cell_type": "markdown",
      "metadata": {
        "id": "2MoD_d9StnXk"
      },
      "source": [
        "This model has quite a few more trainable parameters than the linear models:"
      ]
    },
    {
      "cell_type": "code",
      "metadata": {
        "colab": {
          "base_uri": "https://localhost:8080/"
        },
        "id": "PYCHdVxZttJo",
        "outputId": "26973095-1604-4ffe-9fea-d181f0576636"
      },
      "source": [
        "dnn_horsepower_model.summary()"
      ],
      "execution_count": null,
      "outputs": [
        {
          "output_type": "stream",
          "name": "stdout",
          "text": [
            "Model: \"sequential_2\"\n",
            "_________________________________________________________________\n",
            " Layer (type)                Output Shape              Param #   \n",
            "=================================================================\n",
            " normalization_1 (Normalizat  (None, 1)                3         \n",
            " ion)                                                            \n",
            "                                                                 \n",
            " dense_2 (Dense)             (None, 64)                128       \n",
            "                                                                 \n",
            " dense_3 (Dense)             (None, 64)                4160      \n",
            "                                                                 \n",
            " dense_4 (Dense)             (None, 1)                 65        \n",
            "                                                                 \n",
            "=================================================================\n",
            "Total params: 4,356\n",
            "Trainable params: 4,353\n",
            "Non-trainable params: 3\n",
            "_________________________________________________________________\n"
          ]
        }
      ]
    },
    {
      "cell_type": "markdown",
      "metadata": {
        "id": "Qsa-miQltzEQ"
      },
      "source": [
        "Train the model with Keras Model.fit:"
      ]
    },
    {
      "cell_type": "code",
      "metadata": {
        "colab": {
          "base_uri": "https://localhost:8080/"
        },
        "id": "E8mekoQat3oI",
        "outputId": "9a598c05-c46c-417e-f91e-38d544a9c0ea"
      },
      "source": [
        "%%time\n",
        "history = dnn_horsepower_model.fit(\n",
        "    train_features['Horsepower'],\n",
        "    train_labels,\n",
        "    validation_split=0.2,\n",
        "    verbose=0, epochs=100)"
      ],
      "execution_count": null,
      "outputs": [
        {
          "output_type": "stream",
          "name": "stdout",
          "text": [
            "CPU times: user 3.68 s, sys: 203 ms, total: 3.89 s\n",
            "Wall time: 3.49 s\n"
          ]
        }
      ]
    },
    {
      "cell_type": "markdown",
      "metadata": {
        "id": "uI6UyhaOuJuz"
      },
      "source": [
        "This model does slighlty better than the single-input **horsepower_model**:"
      ]
    },
    {
      "cell_type": "code",
      "metadata": {
        "colab": {
          "base_uri": "https://localhost:8080/",
          "height": 283
        },
        "id": "D-Dqe0T0uU-i",
        "outputId": "85398723-e777-4887-b6e6-feacdb973198"
      },
      "source": [
        "plot_loss(history)"
      ],
      "execution_count": null,
      "outputs": [
        {
          "output_type": "display_data",
          "data": {
            "image/png": "[encoded data removed]",
            "text/plain": [
              "<Figure size 432x288 with 1 Axes>"
            ]
          },
          "metadata": {
            "needs_background": "light"
          }
        }
      ]
    },
    {
      "cell_type": "markdown",
      "metadata": {
        "id": "dNSBo4bDuZ4J"
      },
      "source": [
        "If you plot the predictions as a function of 'Horsepower', you should notice how this model takes advantage of the nonlinearity provided by the hidden layers:"
      ]
    },
    {
      "cell_type": "code",
      "metadata": {
        "id": "R-w1-vc5uobf"
      },
      "source": [
        "x = tf.linspace(0.0, 250, 251)\n",
        "y = dnn_horsepower_model.predict(x)"
      ],
      "execution_count": null,
      "outputs": []
    },
    {
      "cell_type": "code",
      "metadata": {
        "colab": {
          "base_uri": "https://localhost:8080/",
          "height": 279
        },
        "id": "hXNHuS5Iuzso",
        "outputId": "84e25fc1-dc2a-473d-eb46-7f1f8ab61719"
      },
      "source": [
        "plot_horsepower(x, y)"
      ],
      "execution_count": null,
      "outputs": [
        {
          "output_type": "display_data",
          "data": {
            "image/png": "[encoded data removed]",
            "text/plain": [
              "<Figure size 432x288 with 1 Axes>"
            ]
          },
          "metadata": {
            "needs_background": "light"
          }
        }
      ]
    },
    {
      "cell_type": "markdown",
      "metadata": {
        "id": "Ff-Pn6IPu3wD"
      },
      "source": [
        "Collect the results on the test set for later:"
      ]
    },
    {
      "cell_type": "code",
      "metadata": {
        "id": "N6rleRChu7xm"
      },
      "source": [
        "test_results['dnn_horsepower_model'] = dnn_horsepower_model.evaluate(\n",
        "    test_features['Horsepower'], test_labels,\n",
        "    verbose=0)"
      ],
      "execution_count": null,
      "outputs": []
    },
    {
      "cell_type": "markdown",
      "metadata": {
        "id": "9a0CbDp8vMOf"
      },
      "source": [
        "**Regression using a DNN and multiple inputs**\n",
        "\n",
        "Repeat the previous process using all the inputs. The model's performance slightly inproves on the validation dataset."
      ]
    },
    {
      "cell_type": "code",
      "metadata": {
        "colab": {
          "base_uri": "https://localhost:8080/"
        },
        "id": "rymQ6KxIviV0",
        "outputId": "62d6f5d1-515d-45f4-fab3-b7412ef8abbd"
      },
      "source": [
        "dnn_model = build_and_compile_model(normalizer)\n",
        "dnn_model.summary()"
      ],
      "execution_count": null,
      "outputs": [
        {
          "output_type": "stream",
          "name": "stdout",
          "text": [
            "Model: \"sequential_3\"\n",
            "_________________________________________________________________\n",
            " Layer (type)                Output Shape              Param #   \n",
            "=================================================================\n",
            " normalization (Normalizatio  (None, 9)                19        \n",
            " n)                                                              \n",
            "                                                                 \n",
            " dense_5 (Dense)             (None, 64)                640       \n",
            "                                                                 \n",
            " dense_6 (Dense)             (None, 64)                4160      \n",
            "                                                                 \n",
            " dense_7 (Dense)             (None, 1)                 65        \n",
            "                                                                 \n",
            "=================================================================\n",
            "Total params: 4,884\n",
            "Trainable params: 4,865\n",
            "Non-trainable params: 19\n",
            "_________________________________________________________________\n"
          ]
        }
      ]
    },
    {
      "cell_type": "code",
      "metadata": {
        "colab": {
          "base_uri": "https://localhost:8080/"
        },
        "id": "MZt0nL3nvrgz",
        "outputId": "3ea8b3d2-8c1f-4df1-cac3-f752bdfc71b4"
      },
      "source": [
        "%%time\n",
        "history = dnn_model.fit(\n",
        "    train_features,\n",
        "    train_labels,\n",
        "    validation_split=0.2,\n",
        "    verbose=0, epochs=100)"
      ],
      "execution_count": null,
      "outputs": [
        {
          "output_type": "stream",
          "name": "stdout",
          "text": [
            "CPU times: user 3.81 s, sys: 209 ms, total: 4.01 s\n",
            "Wall time: 3.57 s\n"
          ]
        }
      ]
    },
    {
      "cell_type": "code",
      "metadata": {
        "colab": {
          "base_uri": "https://localhost:8080/",
          "height": 283
        },
        "id": "M0ZfXiWcv6V0",
        "outputId": "38501acb-a94b-4fa1-a7fd-6b5c670e52e3"
      },
      "source": [
        "plot_loss(history)"
      ],
      "execution_count": null,
      "outputs": [
        {
          "output_type": "display_data",
          "data": {
            "image/png": "[encoded data removed]",
            "text/plain": [
              "<Figure size 432x288 with 1 Axes>"
            ]
          },
          "metadata": {
            "needs_background": "light"
          }
        }
      ]
    },
    {
      "cell_type": "markdown",
      "metadata": {
        "id": "6ZX-9ZWtv_xK"
      },
      "source": [
        "Collect the results on the test set:"
      ]
    },
    {
      "cell_type": "code",
      "metadata": {
        "id": "i5bu33wFwG4B"
      },
      "source": [
        "test_results['dnn_model'] = dnn_model.evaluate(test_features, test_labels, verbose=0)"
      ],
      "execution_count": null,
      "outputs": []
    },
    {
      "cell_type": "markdown",
      "metadata": {
        "id": "VlhYWs6VwWaC"
      },
      "source": [
        "**Performance**\n",
        "\n",
        "Since all models have been trained, you can review their test set performance:"
      ]
    },
    {
      "cell_type": "code",
      "metadata": {
        "colab": {
          "base_uri": "https://localhost:8080/",
          "height": 173
        },
        "id": "yu86cCQ2wkFg",
        "outputId": "4502722e-25ed-4095-c2b8-aa7bb96caa4b"
      },
      "source": [
        "pd.DataFrame(test_results, index=['Mean absolute error [MPG]']).T"
      ],
      "execution_count": null,
      "outputs": [
        {
          "output_type": "execute_result",
          "data": {
            "text/html": [
              "<div>\n",
              "<style scoped>\n",
              "    .dataframe tbody tr th:only-of-type {\n",
              "        vertical-align: middle;\n",
              "    }\n",
              "\n",
              "    .dataframe tbody tr th {\n",
              "        vertical-align: top;\n",
              "    }\n",
              "\n",
              "    .dataframe thead th {\n",
              "        text-align: right;\n",
              "    }\n",
              "</style>\n",
              "<table border=\"1\" class=\"dataframe\">\n",
              "  <thead>\n",
              "    <tr style=\"text-align: right;\">\n",
              "      <th></th>\n",
              "      <th>Mean absolute error [MPG]</th>\n",
              "    </tr>\n",
              "  </thead>\n",
              "  <tbody>\n",
              "    <tr>\n",
              "      <th>horsepower_model</th>\n",
              "      <td>3.648792</td>\n",
              "    </tr>\n",
              "    <tr>\n",
              "      <th>linear_model</th>\n",
              "      <td>2.410669</td>\n",
              "    </tr>\n",
              "    <tr>\n",
              "      <th>dnn_horsepower_model</th>\n",
              "      <td>2.828630</td>\n",
              "    </tr>\n",
              "    <tr>\n",
              "      <th>dnn_model</th>\n",
              "      <td>1.684393</td>\n",
              "    </tr>\n",
              "  </tbody>\n",
              "</table>\n",
              "</div>"
            ],
            "text/plain": [
              "                      Mean absolute error [MPG]\n",
              "horsepower_model                       3.648792\n",
              "linear_model                           2.410669\n",
              "dnn_horsepower_model                   2.828630\n",
              "dnn_model                              1.684393"
            ]
          },
          "metadata": {},
          "execution_count": 52
        }
      ]
    },
    {
      "cell_type": "markdown",
      "metadata": {
        "id": "974OJQj9wxUu"
      },
      "source": [
        "These results match the validation error observed during training."
      ]
    },
    {
      "cell_type": "markdown",
      "metadata": {
        "id": "_hWOsfIdw4wo"
      },
      "source": [
        "**Make predictions**\n",
        "\n",
        "You can now make prediction with the dnn_model on the test set using Keras Model.predict and review the loss:"
      ]
    },
    {
      "cell_type": "code",
      "metadata": {
        "colab": {
          "base_uri": "https://localhost:8080/",
          "height": 283
        },
        "id": "5pf3x_Z-xIi5",
        "outputId": "df916b2b-eaf5-400a-d980-121ecbe36c1f"
      },
      "source": [
        "test_predictions = dnn_model.predict(test_features).flatten()\n",
        "\n",
        "a = plt.axes(aspect='equal')\n",
        "plt.scatter(test_labels, test_predictions)\n",
        "plt.xlabel('True Values [MPG]')\n",
        "plt.ylabel('Predictions [MPG]')\n",
        "lims = [0, 50]\n",
        "plt.xlim(lims)\n",
        "plt.ylim(lims) \n",
        "_ = plt.plot(lims, lims)\n"
      ],
      "execution_count": null,
      "outputs": [
        {
          "output_type": "display_data",
          "data": {
            "image/png": "[encoded data removed]",
            "text/plain": [
              "<Figure size 432x288 with 1 Axes>"
            ]
          },
          "metadata": {
            "needs_background": "light"
          }
        }
      ]
    },
    {
      "cell_type": "markdown",
      "metadata": {
        "id": "lxQZTLpWxwi7"
      },
      "source": [
        "It appears that the model predicts reasonably well.\n",
        "\n",
        "Now, check the error distribution:"
      ]
    },
    {
      "cell_type": "code",
      "metadata": {
        "colab": {
          "base_uri": "https://localhost:8080/",
          "height": 279
        },
        "id": "xtoB0Niox5nK",
        "outputId": "b59466b6-c34b-4cf0-df25-5f0334b8b010"
      },
      "source": [
        "error = test_predictions - test_labels\n",
        "plt.hist(error, bins=25)\n",
        "plt.xlabel('Prediction Error [MPG]')\n",
        "_ = plt.ylabel('Count')"
      ],
      "execution_count": null,
      "outputs": [
        {
          "output_type": "display_data",
          "data": {
            "image/png": "[encoded data removed]",
            "text/plain": [
              "<Figure size 432x288 with 1 Axes>"
            ]
          },
          "metadata": {
            "needs_background": "light"
          }
        }
      ]
    },
    {
      "cell_type": "markdown",
      "metadata": {
        "id": "zR0XZK9xyOV0"
      },
      "source": [
        "If you are happy with the model, save it for later use wit Model.save:"
      ]
    },
    {
      "cell_type": "code",
      "metadata": {
        "colab": {
          "base_uri": "https://localhost:8080/"
        },
        "id": "5JZY9M4KyWqa",
        "outputId": "e81c9b22-a14d-472c-8176-c03501b57f35"
      },
      "source": [
        "dnn_model.save('dnn_model_mpg')"
      ],
      "execution_count": null,
      "outputs": [
        {
          "output_type": "stream",
          "name": "stdout",
          "text": [
            "INFO:tensorflow:Assets written to: dnn_model_mpg/assets\n"
          ]
        }
      ]
    },
    {
      "cell_type": "markdown",
      "metadata": {
        "id": "Twn5GCIlyeUY"
      },
      "source": [
        "If you reload the model, it gives identical ouput:"
      ]
    },
    {
      "cell_type": "code",
      "metadata": {
        "id": "E4iPQPLIyiXZ"
      },
      "source": [
        "reloaded = tf.keras.models.load_model('dnn_model_mpg')\n",
        "\n",
        "test_results['reloaded'] = reloaded.evaluate(\n",
        "    test_features, test_labels, verbose=0)"
      ],
      "execution_count": null,
      "outputs": []
    },
    {
      "cell_type": "code",
      "metadata": {
        "colab": {
          "base_uri": "https://localhost:8080/",
          "height": 204
        },
        "id": "IeRVa3Cxy9tp",
        "outputId": "f95f6900-8a2e-4902-a57f-fa59fe5ecf1d"
      },
      "source": [
        "pd.DataFrame(test_results, index=['Mean absolute error [MPG]']).T"
      ],
      "execution_count": null,
      "outputs": [
        {
          "output_type": "execute_result",
          "data": {
            "text/html": [
              "<div>\n",
              "<style scoped>\n",
              "    .dataframe tbody tr th:only-of-type {\n",
              "        vertical-align: middle;\n",
              "    }\n",
              "\n",
              "    .dataframe tbody tr th {\n",
              "        vertical-align: top;\n",
              "    }\n",
              "\n",
              "    .dataframe thead th {\n",
              "        text-align: right;\n",
              "    }\n",
              "</style>\n",
              "<table border=\"1\" class=\"dataframe\">\n",
              "  <thead>\n",
              "    <tr style=\"text-align: right;\">\n",
              "      <th></th>\n",
              "      <th>Mean absolute error [MPG]</th>\n",
              "    </tr>\n",
              "  </thead>\n",
              "  <tbody>\n",
              "    <tr>\n",
              "      <th>horsepower_model</th>\n",
              "      <td>3.648792</td>\n",
              "    </tr>\n",
              "    <tr>\n",
              "      <th>linear_model</th>\n",
              "      <td>2.410669</td>\n",
              "    </tr>\n",
              "    <tr>\n",
              "      <th>dnn_horsepower_model</th>\n",
              "      <td>2.828630</td>\n",
              "    </tr>\n",
              "    <tr>\n",
              "      <th>dnn_model</th>\n",
              "      <td>1.684393</td>\n",
              "    </tr>\n",
              "    <tr>\n",
              "      <th>reloaded</th>\n",
              "      <td>1.684393</td>\n",
              "    </tr>\n",
              "  </tbody>\n",
              "</table>\n",
              "</div>"
            ],
            "text/plain": [
              "                      Mean absolute error [MPG]\n",
              "horsepower_model                       3.648792\n",
              "linear_model                           2.410669\n",
              "dnn_horsepower_model                   2.828630\n",
              "dnn_model                              1.684393\n",
              "reloaded                               1.684393"
            ]
          },
          "metadata": {},
          "execution_count": 59
        }
      ]
    },
    {
      "cell_type": "markdown",
      "metadata": {
        "id": "EZwKor-uzKhw"
      },
      "source": [
        "**Conclusion**\n",
        "\n",
        "This notebook introduced a few techniques to handle a regression problem. Here are few tips that may help:\n",
        "\n",
        "(a) Mean squared error (MSE) (tf.losses.MeanMeanSquaredError) and mean absolute error (MAE) (tf.losses.MeanAbsoluteError) are common loss functions used for regression problems. MAE is less sensitive to outliers. Different loss function are used for classification problems.\n",
        "\n",
        "(b) Similarly, evaluation metrics used for regression differ from classification.\n",
        "\n",
        "(c) When numeric input data features have values with different ranges, each feature suhould be scaled independently to the same range.\n",
        "\n",
        "(d) Overfitting is a common problem for DNNmoesl, though it wasn't a problem for this tutorial. Visit the Overfit and Underfit tutorial for more help with this.\n",
        "\n",
        "Overfit and Underfit: https://www.tensorflow.org/tutorials/keras/overfit_and_underfit\n"
      ]
    }
  ]
}