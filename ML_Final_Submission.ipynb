{
  "nbformat": 4,
  "nbformat_minor": 0,
  "metadata": {
    "colab": {
      "name": "ML_Final_Submission.ipynb",
      "provenance": [],
      "collapsed_sections": [],
      "authorship_tag": "ABX9TyOH9kM2fc25Sphx6lC89mlh",
      "include_colab_link": true
    },
    "kernelspec": {
      "name": "python3",
      "display_name": "Python 3"
    },
    "language_info": {
      "name": "python"
    },
    "accelerator": "GPU"
  },
  "cells": [
    {
      "cell_type": "markdown",
      "metadata": {
        "id": "view-in-github",
        "colab_type": "text"
      },
      "source": [
        "<a href=\"https://colab.research.google.com/github/rawat-nitin/ColabGoogleStuff/blob/main/ML_Final_Submission.ipynb\" target=\"_parent\"><img src=\"https://colab.research.google.com/assets/colab-badge.svg\" alt=\"Open In Colab\"/></a>"
      ]
    },
    {
      "cell_type": "code",
      "execution_count": 40,
      "metadata": {
        "colab": {
          "base_uri": "https://localhost:8080/"
        },
        "id": "08gRsLCHpY16",
        "outputId": "32a46566-3d1a-4550-e281-be6604940d73"
      },
      "outputs": [
        {
          "output_type": "stream",
          "name": "stdout",
          "text": [
            "Sat Jan 22 09:45:28 2022       \n",
            "+-----------------------------------------------------------------------------+\n",
            "| NVIDIA-SMI 495.46       Driver Version: 460.32.03    CUDA Version: 11.2     |\n",
            "|-------------------------------+----------------------+----------------------+\n",
            "| GPU  Name        Persistence-M| Bus-Id        Disp.A | Volatile Uncorr. ECC |\n",
            "| Fan  Temp  Perf  Pwr:Usage/Cap|         Memory-Usage | GPU-Util  Compute M. |\n",
            "|                               |                      |               MIG M. |\n",
            "|===============================+======================+======================|\n",
            "|   0  Tesla T4            Off  | 00000000:00:04.0 Off |                    0 |\n",
            "| N/A   74C    P0    33W /  70W |   2840MiB / 15109MiB |      0%      Default |\n",
            "|                               |                      |                  N/A |\n",
            "+-------------------------------+----------------------+----------------------+\n",
            "                                                                               \n",
            "+-----------------------------------------------------------------------------+\n",
            "| Processes:                                                                  |\n",
            "|  GPU   GI   CI        PID   Type   Process name                  GPU Memory |\n",
            "|        ID   ID                                                   Usage      |\n",
            "|=============================================================================|\n",
            "|  No running processes found                                                 |\n",
            "+-----------------------------------------------------------------------------+\n"
          ]
        }
      ],
      "source": [
        "from tensorflow.python.util import tf_decorator\n",
        "#This command intended to aid in the managment and monitoring of NVIDIA GPU devices\n",
        "!nvidia-smi\n",
        "\n",
        "#Libraries required for Downloading and processing the Data-set\n",
        "import tensorflow as tf\n",
        "from tensorflow.keras.datasets import mnist\n",
        "from tensorflow.keras.utils import to_categorical\n",
        "from tensorflow.keras.preprocessing.image import ImageDataGenerator\n",
        "from tensorflow.keras.layers import *\n",
        "\n",
        "#For Early Stopping and Reducing the rate\n",
        "from tensorflow.keras.callbacks import ReduceLROnPlateau, EarlyStopping\n",
        "\n",
        "#For model evaluation\n",
        "from sklearn.model_selection import KFold\n",
        "from tensorflow.keras.models import Sequential\n",
        "from tensorflow.keras.layers import Conv2D\n",
        "from tensorflow.keras.layers import MaxPooling2D\n",
        "from tensorflow.keras.layers import Dense\n",
        "from tensorflow.keras.layers import Flatten\n",
        "from tensorflow.keras.optimizers import SGD\n",
        "from tensorflow.keras.layers import BatchNormalization\n",
        "from tensorflow.keras.models import load_model\n",
        "from numpy import mean\n",
        "from numpy import std\n",
        "\n",
        "#Library for required for plotting the Image\n",
        "from matplotlib import pyplot as plt\n",
        "\n",
        "\n",
        "#For Early Stopping and Reducing the rate\n",
        "from tensorflow.keras.callbacks import ReduceLROnPlateau, EarlyStopping\n",
        "\n",
        "early_stopping = EarlyStopping(monitor=\"val_loss\", min_delta=0, patience=10, verbose=1)\n",
        "reduce_lr = ReduceLROnPlateau(monitor=\"val_loss\", factor=0.1, patience=3, verbose=1)"
      ]
    },
    {
      "cell_type": "code",
      "source": [
        "#Function for loading the dataset {plain}\n",
        "def load_dataset():\n",
        "  #load dataset\n",
        "  (trainX, trainY), (testX, testY) = mnist.load_data()\n",
        "  #Summarize loaded dataset\n",
        "  print('Summarizing the Loaded Dataset')\n",
        "  print('Train: X=%s, y=%s' %(trainX.shape, trainY.shape))\n",
        "  print('Test: X=%s, y=%s' %(testX.shape, testY.shape))\n",
        "  return trainX, trainY, testX, testY"
      ],
      "metadata": {
        "id": "7BKWoRl_5SP6"
      },
      "execution_count": 41,
      "outputs": []
    },
    {
      "cell_type": "code",
      "source": [
        "def plot_dataset(trainX, trainY):\n",
        "  num_row = 2\n",
        "  num_col = 8\n",
        "  num =num_row*num_col\n",
        "  print('MNIST DATA-SET IMAGES WITH THEIR LABELS:\\n')\n",
        "  #Plotting the Images\n",
        "  fig1, axes1 = plt.subplots(num_row,num_col, figsize=(1.5*num_col,2*num_row))\n",
        "  for i in range(num):\n",
        "    ax = axes1[i//num_col, i%num_col]\n",
        "    ax.imshow(trainX[i], cmap='gray_r')\n",
        "    ax.set_title('Label:{}'.format(trainY[i]))\n",
        "  plt.tight_layout()\n",
        "  plt.show()"
      ],
      "metadata": {
        "id": "xElBNrbH5rpT"
      },
      "execution_count": 42,
      "outputs": []
    },
    {
      "cell_type": "code",
      "source": [
        "def data_train_test(trainX, trainY, testX, testY):\n",
        "  #Reshape dataset to have a single channel\n",
        "  trainX = trainX.reshape((trainX.shape[0], 28, 28, 1))\n",
        "  trainY = trainY.reshape((trainY.shape[0], 1))\n",
        "\t#one hot encode target values\n",
        "  trainY = to_categorical(trainY)\n",
        "  testY = to_categorical(testY)\n",
        "  return trainX, trainY, testX, testY"
      ],
      "metadata": {
        "id": "QK3gbg-ZAGpf"
      },
      "execution_count": 43,
      "outputs": []
    },
    {
      "cell_type": "code",
      "source": [
        "# scale pixels\n",
        "def preps_pixels(train, test):\n",
        "\t# convert from integers to floats\n",
        "\ttrain_norm = train.astype('float32')\n",
        "\ttest_norm = test.astype('float32')\n",
        "\t# normalize to range 0-1\n",
        "\ttrain_norm = train_norm / 255.0\n",
        "\ttest_norm = test_norm / 255.0\n",
        "\t# return normalized images\n",
        "\treturn train_norm, test_norm"
      ],
      "metadata": {
        "id": "E7uj18yQEtZi"
      },
      "execution_count": 44,
      "outputs": []
    },
    {
      "cell_type": "code",
      "source": [
        "# define Convolutional Neural Network model\n",
        "def define_model():\n",
        "\tmodel = Sequential()\n",
        "\tmodel.add(Conv2D(32, (3, 3), activation='selu', kernel_initializer='he_uniform', input_shape=(28, 28, 1)))\n",
        "\tmodel.add(MaxPooling2D((2, 2)))\n",
        "\tmodel.add(Conv2D(64, (3, 3), activation='relu', kernel_initializer='he_uniform'))\n",
        "\tmodel.add(Conv2D(64, (3, 3), activation='relu', kernel_initializer='he_uniform'))\n",
        "\tmodel.add(MaxPooling2D((2, 2)))\n",
        "\tmodel.add(Flatten())\n",
        "\tmodel.add(Dense(100, activation='relu', kernel_initializer='he_uniform'))\n",
        "\tmodel.add(Dense(10, activation='softmax'))\n",
        "\t# compile model\n",
        "\topt = SGD(learning_rate=0.03, momentum=0.9)\n",
        "\tmodel.compile(optimizer=opt, loss='categorical_crossentropy', metrics=['accuracy'])\n",
        "\treturn model"
      ],
      "metadata": {
        "id": "F3ehHMeNmtqK"
      },
      "execution_count": 45,
      "outputs": []
    },
    {
      "cell_type": "code",
      "source": [
        "# evaluate a model using k-fold cross-validation\n",
        "def evaluate_model(dataX, dataY, n_folds=2):\n",
        "\tscores, histories = list(), list()\n",
        "\t# prepare cross validation\n",
        "\tkfold = KFold(n_folds, shuffle=True, random_state=1)\n",
        "\t# enumerate splits\n",
        "\tfor train_ix, test_ix in kfold.split(dataX):\n",
        "\t\t# define model\n",
        "\t\tmodel = define_model()\n",
        "\t\t# select rows for train and test\n",
        "\t\ttrainX, trainY, testX, testY = dataX[train_ix], dataY[train_ix], dataX[test_ix], dataY[test_ix]\n",
        "\t\t# fit model\n",
        "\t\thistory = model.fit(trainX, trainY, epochs=35, batch_size=32, validation_data=(testX, testY), callbacks=[reduce_lr, early_stopping], verbose=0)\n",
        "\t\t# evaluate model\n",
        "\t\t_, acc = model.evaluate(testX, testY, verbose=0)\n",
        "\t\tprint('> %.3f' % (acc * 100.0))\n",
        "\t\t# stores scores\n",
        "\t\tscores.append(acc)\n",
        "\t\thistories.append(history)\n",
        "\treturn scores, histories"
      ],
      "metadata": {
        "id": "CF0zhYKPrOnc"
      },
      "execution_count": 46,
      "outputs": []
    },
    {
      "cell_type": "code",
      "source": [
        "# plot diagnostic learning curves\n",
        "def summarize_diagnostics(histories):\n",
        "\tfor i in range(len(histories)):\n",
        "\t\t# plot loss\n",
        "\t\tplt.subplot(2, 1, 1)\n",
        "\t\tplt.title('Cross Entropy Loss')\n",
        "\t\tplt.plot(histories[i].history['loss'], color='blue', label='train')\n",
        "\t\tplt.plot(histories[i].history['val_loss'], color='orange', label='test')\n",
        "\t\t# plot accuracy\n",
        "\t\tplt.subplot(2, 1, 2)\n",
        "\t\tplt.title('Classification Accuracy')\n",
        "\t\tplt.plot(histories[i].history['accuracy'], color='blue', label='train')\n",
        "\t\tplt.plot(histories[i].history['val_accuracy'], color='orange', label='test')\n",
        "\tplt.show()"
      ],
      "metadata": {
        "id": "ieT-V8pvr_T9"
      },
      "execution_count": 47,
      "outputs": []
    },
    {
      "cell_type": "code",
      "source": [
        "# summarize model performance\n",
        "def summarize_performance(scores):\n",
        "\t# print summary\n",
        "\tprint('Accuracy: mean=%.3f std=%.3f, n=%d' % (mean(scores)*100, std(scores)*100, len(scores)))\n",
        "\t"
      ],
      "metadata": {
        "id": "QMAgNS2TsA4S"
      },
      "execution_count": 48,
      "outputs": []
    },
    {
      "cell_type": "code",
      "source": [
        "#function for saving the model\n",
        "def save_model():\n",
        "  #load dataset\n",
        "  trainX, trainY, testX, testY = load_dataset()\n",
        "  trainXX, trainYY, testXX, testYY = data_train_test(trainX, trainY, testX, testY)\n",
        "  #preparing for pixeling the data\n",
        "  trainXX, testXX = preps_pixels(trainXX, testXX)\n",
        "  #define model\n",
        "  model = define_model()\n",
        "  #fit model\n",
        "  model.fit(trainXX, trainYY, epochs=35, batch_size=32, validation_data=(trainXX, trainYY), callbacks=[reduce_lr, early_stopping], verbose=0)\n",
        "  #save model\n",
        "  model.save('mnist_model_final.h5')"
      ],
      "metadata": {
        "id": "rgNpZSEB0wAW"
      },
      "execution_count": 49,
      "outputs": []
    },
    {
      "cell_type": "code",
      "source": [
        "def test_model(trainX, trainY, testX, testY):\n",
        "  #load model\n",
        "  model = load_model('mnist_model_final.h5')\n",
        "  #evaluate model on test dataset\n",
        "  _, acc = model.evaluate(testX, testY, verbose=0)\n",
        "  print('> %.3f' % (acc * 100.0))"
      ],
      "metadata": {
        "id": "sO8X9nMpIIPC"
      },
      "execution_count": 50,
      "outputs": []
    },
    {
      "cell_type": "code",
      "source": [
        "def run_main():\n",
        "  #load dataset\n",
        "  trainX, trainY, testX, testY = load_dataset()\n",
        "  plot_dataset(trainX, trainY)\n",
        "  trainXX, trainYY, testXX, testYY = data_train_test(trainX, trainY, testX, testY)\n",
        "  #preparing pixel data for normalize distribution\n",
        "  trainXX, testXX = preps_pixels(trainXX, testXX)\n",
        "  #Evaluate Model\n",
        "  #scores, histories = evaluate_model(trainXX, trainYY)\n",
        "  # learning curves\n",
        "  #summarize_diagnostics(histories)\n",
        "\t# summarize estimated performance\n",
        "  #summarize_performance(scores)\n",
        "  # calling the function to save the model\n",
        "  save_model()\n",
        "  #test model on test data set\n",
        "  test_model(trainXX, testXX, testXX, testYY)\n",
        "\n",
        "\n",
        "\n",
        "  "
      ],
      "metadata": {
        "id": "g6fSDzSR5ZWj"
      },
      "execution_count": 51,
      "outputs": []
    },
    {
      "cell_type": "code",
      "source": [
        "run_main()"
      ],
      "metadata": {
        "colab": {
          "base_uri": "https://localhost:8080/",
          "height": 643
        },
        "id": "Lww-zB7N5hdS",
        "outputId": "970479f0-bf95-4b1b-ed71-fe6204fbdbd5"
      },
      "execution_count": 52,
      "outputs": [
        {
          "output_type": "stream",
          "name": "stdout",
          "text": [
            "Summarizing the Loaded Dataset\n",
            "Train: X=(60000, 28, 28), y=(60000,)\n",
            "Test: X=(10000, 28, 28), y=(10000,)\n",
            "MNIST DATA-SET IMAGES WITH THEIR LABELS:\n",
            "\n"
          ]
        },
        {
          "output_type": "display_data",
          "data": {
            "image/png": "[encoded data removed]",
            "text/plain": [
              "<Figure size 864x288 with 16 Axes>"
            ]
          },
          "metadata": {
            "needs_background": "light"
          }
        },
        {
          "output_type": "stream",
          "name": "stdout",
          "text": [
            "Summarizing the Loaded Dataset\n",
            "Train: X=(60000, 28, 28), y=(60000,)\n",
            "Test: X=(10000, 28, 28), y=(10000,)\n",
            "\n",
            "Epoch 00009: ReduceLROnPlateau reducing learning rate to 0.002999999932944775.\n",
            "\n",
            "Epoch 00021: ReduceLROnPlateau reducing learning rate to 0.00030000000260770325.\n",
            "\n",
            "Epoch 00024: ReduceLROnPlateau reducing learning rate to 3.000000142492354e-05.\n",
            "\n",
            "Epoch 00027: ReduceLROnPlateau reducing learning rate to 3.000000106112566e-06.\n",
            "\n",
            "Epoch 00030: ReduceLROnPlateau reducing learning rate to 3.000000106112566e-07.\n",
            "\n",
            "Epoch 00033: ReduceLROnPlateau reducing learning rate to 3.000000106112566e-08.\n",
            "> 99.270\n"
          ]
        }
      ]
    }
  ]
}